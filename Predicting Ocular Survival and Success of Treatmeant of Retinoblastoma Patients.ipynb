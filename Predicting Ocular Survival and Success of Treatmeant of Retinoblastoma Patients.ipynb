{
 "cells": [
  {
   "cell_type": "code",
   "execution_count": 1,
   "metadata": {},
   "outputs": [
    {
     "name": "stderr",
     "output_type": "stream",
     "text": [
      "C:\\Users\\rapef\\Anaconda3\\lib\\site-packages\\sklearn\\ensemble\\weight_boosting.py:29: DeprecationWarning: numpy.core.umath_tests is an internal NumPy module and should not be imported. It will be removed in a future NumPy release.\n",
      "  from numpy.core.umath_tests import inner1d\n"
     ]
    }
   ],
   "source": [
    "import pandas as pd\n",
    "import numpy as np\n",
    "import matplotlib.pyplot as plt\n",
    "import seaborn as sns\n",
    "\n",
    "from sklearn.cluster import KMeans    \n",
    "from scipy.cluster import hierarchy   \n",
    "from sklearn.linear_model import LogisticRegression, LinearRegression\n",
    "from sklearn.metrics import mean_squared_error, r2_score, explained_variance_score, confusion_matrix, precision_recall_fscore_support, accuracy_score, classification_report\n",
    "from sklearn.ensemble import GradientBoostingClassifier\n",
    "from sklearn.preprocessing import scale\n",
    "from sklearn.model_selection import train_test_split"
   ]
  },
  {
   "cell_type": "markdown",
   "metadata": {},
   "source": [
    "# Predicting Ocular Survival and Success of Treatmeant of Retinoblastoma Patients"
   ]
  },
  {
   "cell_type": "markdown",
   "metadata": {},
   "source": [
    "## 1. Introduction\n",
    "\n",
    "Retinoblastoma (Rb) is a rare form of cancer that affects the cells of the retina. Since the retina plays a central role in our vision by translating an optical image into neural impulses, any defects associated with the light-detecting tissue are detremental to the vision. There are two forms of disease - heritable and non-heritable.<br>\n",
    "This form of cancer affects mostly young children and is caused by a genetic defect in the the RB1 and MYCN genes, which encode for tumor suppressor proteins and transcription factors respectively. <br>\n",
    "The most common signs of disease are poor vision and an abnormal appearance of the retina. Currently, there are limited treatment options. Primarily, the focus is on eliminating the cancer by chemo- or radiation therapy which in recent years shifted towards plaque brachytherapy, radiation from within, so the insertion of a radioactive metal plaque on the affected area. However, typically, the eye has to be removed completely (called enucleation) to avoid spreading of the cancer to the neighbouring tissues.<br>   \n",
    "According to the World Health Organization, 1 in 14,000 – 18,000 live births are affected by this disease in the US and Europe, with a higher rate of incidence in Africa, India and members of First Nations. <br>\n",
    "Due to the complexity of disease and treatment, there are clear benefits when trying to make inferences about the (scarce) data available ranging from early detection to improved therapy options. <br>\n",
    "Using both supervised and unsupervised learning algorithms, this project aims to answer three questions based on a clinical dataset with sample size of 87 eyes of retinoblastoma patients. The goal is to unveil interesting behaviours or dependencies that could be potentially be used in a healthcare setting. <br>"
   ]
  },
  {
   "cell_type": "markdown",
   "metadata": {},
   "source": [
    "### 1.1 Description of Dataset\n",
    "\n",
    "Source: \n",
    "https://figshare.com/articles/Total_retinal_detachments_due_to_retinoblastoma_Outcomes_following_intra-arterial_chemotherapy_ophthalmic_artery_chemosurgery/6191927\n",
    "\n",
    "<p>For this project, I have chosen a dataset that focused on 87 eyes of retinoblastoma patients. Since data, especially in this field, is scare, the dataset is taken from a study conducted by Rowlands et al. (2018). To work easier with the data, I have only included the nine features that I am interested in:\n",
    "</p>\n",
    "\n",
    "#1 Age (at inital diagnosis): age_diagnosis\n",
    "#2 Sex <br>\n",
    "Possible categories: 0: male, 1: female\n",
    "#3 Prior treatment: prior_treatment <br>\n",
    "Possible categories: 0: None, 1: Systemic Chemotherapy, 2: Intra-arterial Chemotherapy, 3: Bridge Chemotherapy  \n",
    "#4 Family history: family_history <br>\n",
    "Possible categories: 0: no, 1: yes\n",
    "#5 Laterality of retinoblastoma: lateral_RB <br>\n",
    "Possible categories: 1: unilateral, 2: bilateral\n",
    "#6 Laterality of retinal detachment: lateral_RD <br>\n",
    "Possible categories: 0: right eye, 1: left eye\n",
    "#7 Max Retina Reattachment: max_RRA <br>\n",
    "Possible categories: 0: No resolution, 1: Partial, 2:Complete\n",
    "#8 Final Retinal Detachment Status: final_RD_status <br>\n",
    "Possible categories: 0: TRD (Tractional Retinal Detachment), 1: Partial, 2: Complete\n",
    "#9 Ocular Survival (defined as the time between date of diagnosis and the date of enucleation): ocular_survival <br>"
   ]
  },
  {
   "cell_type": "code",
   "execution_count": 2,
   "metadata": {
    "scrolled": false
   },
   "outputs": [],
   "source": [
    "#read in the data as a dataframe\n",
    "#fill all empty cells with 0\n",
    "rb = pd.read_csv('RB.csv').fillna(0)"
   ]
  },
  {
   "cell_type": "code",
   "execution_count": 3,
   "metadata": {},
   "outputs": [
    {
     "name": "stdout",
     "output_type": "stream",
     "text": [
      "Number of Entries:\n",
      "\n",
      "Feature\t\t Count\n",
      "age_diagnosis      87\n",
      "sex                87\n",
      "prior_treatment    87\n",
      "family_history     87\n",
      "lateral_RB         87\n",
      "lateral_RD         87\n",
      "max_RRA            87\n",
      "final_RD_status    87\n",
      "ocular_survival    87\n",
      "dtype: int64\n"
     ]
    }
   ],
   "source": [
    "print('Number of Entries:\\n')\n",
    "print('Feature\\t\\t Count\\n%s'%rb.count() )"
   ]
  },
  {
   "cell_type": "code",
   "execution_count": 4,
   "metadata": {},
   "outputs": [
    {
     "name": "stdout",
     "output_type": "stream",
     "text": [
      "First 10 entries:\n"
     ]
    },
    {
     "data": {
      "text/html": [
       "<div>\n",
       "<style scoped>\n",
       "    .dataframe tbody tr th:only-of-type {\n",
       "        vertical-align: middle;\n",
       "    }\n",
       "\n",
       "    .dataframe tbody tr th {\n",
       "        vertical-align: top;\n",
       "    }\n",
       "\n",
       "    .dataframe thead th {\n",
       "        text-align: right;\n",
       "    }\n",
       "</style>\n",
       "<table border=\"1\" class=\"dataframe\">\n",
       "  <thead>\n",
       "    <tr style=\"text-align: right;\">\n",
       "      <th></th>\n",
       "      <th>age_diagnosis</th>\n",
       "      <th>sex</th>\n",
       "      <th>prior_treatment</th>\n",
       "      <th>family_history</th>\n",
       "      <th>lateral_RB</th>\n",
       "      <th>lateral_RD</th>\n",
       "      <th>max_RRA</th>\n",
       "      <th>final_RD_status</th>\n",
       "      <th>ocular_survival</th>\n",
       "    </tr>\n",
       "  </thead>\n",
       "  <tbody>\n",
       "    <tr>\n",
       "      <th>0</th>\n",
       "      <td>21.67</td>\n",
       "      <td>1</td>\n",
       "      <td>1</td>\n",
       "      <td>0</td>\n",
       "      <td>2</td>\n",
       "      <td>1</td>\n",
       "      <td>2</td>\n",
       "      <td>2</td>\n",
       "      <td>10.51</td>\n",
       "    </tr>\n",
       "    <tr>\n",
       "      <th>1</th>\n",
       "      <td>12.93</td>\n",
       "      <td>1</td>\n",
       "      <td>0</td>\n",
       "      <td>0</td>\n",
       "      <td>1</td>\n",
       "      <td>0</td>\n",
       "      <td>1</td>\n",
       "      <td>1</td>\n",
       "      <td>6.64</td>\n",
       "    </tr>\n",
       "    <tr>\n",
       "      <th>2</th>\n",
       "      <td>26.03</td>\n",
       "      <td>0</td>\n",
       "      <td>0</td>\n",
       "      <td>0</td>\n",
       "      <td>2</td>\n",
       "      <td>1</td>\n",
       "      <td>0</td>\n",
       "      <td>0</td>\n",
       "      <td>0.55</td>\n",
       "    </tr>\n",
       "    <tr>\n",
       "      <th>3</th>\n",
       "      <td>10.30</td>\n",
       "      <td>1</td>\n",
       "      <td>0</td>\n",
       "      <td>0</td>\n",
       "      <td>1</td>\n",
       "      <td>1</td>\n",
       "      <td>2</td>\n",
       "      <td>2</td>\n",
       "      <td>8.58</td>\n",
       "    </tr>\n",
       "    <tr>\n",
       "      <th>4</th>\n",
       "      <td>12.40</td>\n",
       "      <td>1</td>\n",
       "      <td>0</td>\n",
       "      <td>0</td>\n",
       "      <td>1</td>\n",
       "      <td>0</td>\n",
       "      <td>2</td>\n",
       "      <td>2</td>\n",
       "      <td>8.88</td>\n",
       "    </tr>\n",
       "    <tr>\n",
       "      <th>5</th>\n",
       "      <td>18.20</td>\n",
       "      <td>0</td>\n",
       "      <td>0</td>\n",
       "      <td>0</td>\n",
       "      <td>2</td>\n",
       "      <td>0</td>\n",
       "      <td>2</td>\n",
       "      <td>1</td>\n",
       "      <td>1.55</td>\n",
       "    </tr>\n",
       "    <tr>\n",
       "      <th>6</th>\n",
       "      <td>11.10</td>\n",
       "      <td>1</td>\n",
       "      <td>0</td>\n",
       "      <td>0</td>\n",
       "      <td>1</td>\n",
       "      <td>0</td>\n",
       "      <td>2</td>\n",
       "      <td>2</td>\n",
       "      <td>8.61</td>\n",
       "    </tr>\n",
       "    <tr>\n",
       "      <th>7</th>\n",
       "      <td>60.53</td>\n",
       "      <td>1</td>\n",
       "      <td>0</td>\n",
       "      <td>0</td>\n",
       "      <td>1</td>\n",
       "      <td>1</td>\n",
       "      <td>1</td>\n",
       "      <td>1</td>\n",
       "      <td>1.29</td>\n",
       "    </tr>\n",
       "    <tr>\n",
       "      <th>8</th>\n",
       "      <td>3.80</td>\n",
       "      <td>1</td>\n",
       "      <td>1</td>\n",
       "      <td>1</td>\n",
       "      <td>2</td>\n",
       "      <td>0</td>\n",
       "      <td>2</td>\n",
       "      <td>2</td>\n",
       "      <td>7.57</td>\n",
       "    </tr>\n",
       "    <tr>\n",
       "      <th>9</th>\n",
       "      <td>3.80</td>\n",
       "      <td>1</td>\n",
       "      <td>1</td>\n",
       "      <td>1</td>\n",
       "      <td>2</td>\n",
       "      <td>1</td>\n",
       "      <td>1</td>\n",
       "      <td>1</td>\n",
       "      <td>3.45</td>\n",
       "    </tr>\n",
       "  </tbody>\n",
       "</table>\n",
       "</div>"
      ],
      "text/plain": [
       "   age_diagnosis  sex  prior_treatment  family_history  lateral_RB  \\\n",
       "0          21.67    1                1               0           2   \n",
       "1          12.93    1                0               0           1   \n",
       "2          26.03    0                0               0           2   \n",
       "3          10.30    1                0               0           1   \n",
       "4          12.40    1                0               0           1   \n",
       "5          18.20    0                0               0           2   \n",
       "6          11.10    1                0               0           1   \n",
       "7          60.53    1                0               0           1   \n",
       "8           3.80    1                1               1           2   \n",
       "9           3.80    1                1               1           2   \n",
       "\n",
       "   lateral_RD  max_RRA  final_RD_status  ocular_survival  \n",
       "0           1        2                2            10.51  \n",
       "1           0        1                1             6.64  \n",
       "2           1        0                0             0.55  \n",
       "3           1        2                2             8.58  \n",
       "4           0        2                2             8.88  \n",
       "5           0        2                1             1.55  \n",
       "6           0        2                2             8.61  \n",
       "7           1        1                1             1.29  \n",
       "8           0        2                2             7.57  \n",
       "9           1        1                1             3.45  "
      ]
     },
     "execution_count": 4,
     "metadata": {},
     "output_type": "execute_result"
    }
   ],
   "source": [
    "print('First 10 entries:')\n",
    "rb.head(10)"
   ]
  },
  {
   "cell_type": "code",
   "execution_count": 5,
   "metadata": {},
   "outputs": [
    {
     "name": "stdout",
     "output_type": "stream",
     "text": [
      "Last five entries:\n"
     ]
    },
    {
     "data": {
      "text/html": [
       "<div>\n",
       "<style scoped>\n",
       "    .dataframe tbody tr th:only-of-type {\n",
       "        vertical-align: middle;\n",
       "    }\n",
       "\n",
       "    .dataframe tbody tr th {\n",
       "        vertical-align: top;\n",
       "    }\n",
       "\n",
       "    .dataframe thead th {\n",
       "        text-align: right;\n",
       "    }\n",
       "</style>\n",
       "<table border=\"1\" class=\"dataframe\">\n",
       "  <thead>\n",
       "    <tr style=\"text-align: right;\">\n",
       "      <th></th>\n",
       "      <th>age_diagnosis</th>\n",
       "      <th>sex</th>\n",
       "      <th>prior_treatment</th>\n",
       "      <th>family_history</th>\n",
       "      <th>lateral_RB</th>\n",
       "      <th>lateral_RD</th>\n",
       "      <th>max_RRA</th>\n",
       "      <th>final_RD_status</th>\n",
       "      <th>ocular_survival</th>\n",
       "    </tr>\n",
       "  </thead>\n",
       "  <tbody>\n",
       "    <tr>\n",
       "      <th>82</th>\n",
       "      <td>47.00</td>\n",
       "      <td>1</td>\n",
       "      <td>1</td>\n",
       "      <td>0</td>\n",
       "      <td>1</td>\n",
       "      <td>0</td>\n",
       "      <td>0</td>\n",
       "      <td>0</td>\n",
       "      <td>1.32</td>\n",
       "    </tr>\n",
       "    <tr>\n",
       "      <th>83</th>\n",
       "      <td>3.77</td>\n",
       "      <td>0</td>\n",
       "      <td>1</td>\n",
       "      <td>0</td>\n",
       "      <td>1</td>\n",
       "      <td>0</td>\n",
       "      <td>2</td>\n",
       "      <td>1</td>\n",
       "      <td>1.30</td>\n",
       "    </tr>\n",
       "    <tr>\n",
       "      <th>84</th>\n",
       "      <td>3.87</td>\n",
       "      <td>0</td>\n",
       "      <td>0</td>\n",
       "      <td>0</td>\n",
       "      <td>1</td>\n",
       "      <td>1</td>\n",
       "      <td>2</td>\n",
       "      <td>2</td>\n",
       "      <td>1.00</td>\n",
       "    </tr>\n",
       "    <tr>\n",
       "      <th>85</th>\n",
       "      <td>24.63</td>\n",
       "      <td>1</td>\n",
       "      <td>1</td>\n",
       "      <td>0</td>\n",
       "      <td>1</td>\n",
       "      <td>0</td>\n",
       "      <td>0</td>\n",
       "      <td>0</td>\n",
       "      <td>0.77</td>\n",
       "    </tr>\n",
       "    <tr>\n",
       "      <th>86</th>\n",
       "      <td>21.43</td>\n",
       "      <td>1</td>\n",
       "      <td>1</td>\n",
       "      <td>0</td>\n",
       "      <td>1</td>\n",
       "      <td>1</td>\n",
       "      <td>0</td>\n",
       "      <td>0</td>\n",
       "      <td>0.61</td>\n",
       "    </tr>\n",
       "  </tbody>\n",
       "</table>\n",
       "</div>"
      ],
      "text/plain": [
       "    age_diagnosis  sex  prior_treatment  family_history  lateral_RB  \\\n",
       "82          47.00    1                1               0           1   \n",
       "83           3.77    0                1               0           1   \n",
       "84           3.87    0                0               0           1   \n",
       "85          24.63    1                1               0           1   \n",
       "86          21.43    1                1               0           1   \n",
       "\n",
       "    lateral_RD  max_RRA  final_RD_status  ocular_survival  \n",
       "82           0        0                0             1.32  \n",
       "83           0        2                1             1.30  \n",
       "84           1        2                2             1.00  \n",
       "85           0        0                0             0.77  \n",
       "86           1        0                0             0.61  "
      ]
     },
     "execution_count": 5,
     "metadata": {},
     "output_type": "execute_result"
    }
   ],
   "source": [
    "print('Last five entries:')\n",
    "rb.tail(5)"
   ]
  },
  {
   "cell_type": "code",
   "execution_count": 6,
   "metadata": {},
   "outputs": [
    {
     "name": "stdout",
     "output_type": "stream",
     "text": [
      "Description of continuous variables:\n"
     ]
    },
    {
     "data": {
      "text/html": [
       "<div>\n",
       "<style scoped>\n",
       "    .dataframe tbody tr th:only-of-type {\n",
       "        vertical-align: middle;\n",
       "    }\n",
       "\n",
       "    .dataframe tbody tr th {\n",
       "        vertical-align: top;\n",
       "    }\n",
       "\n",
       "    .dataframe thead th {\n",
       "        text-align: right;\n",
       "    }\n",
       "</style>\n",
       "<table border=\"1\" class=\"dataframe\">\n",
       "  <thead>\n",
       "    <tr style=\"text-align: right;\">\n",
       "      <th></th>\n",
       "      <th>age_diagnosis</th>\n",
       "      <th>ocular_survival</th>\n",
       "    </tr>\n",
       "  </thead>\n",
       "  <tbody>\n",
       "    <tr>\n",
       "      <th>count</th>\n",
       "      <td>87.000000</td>\n",
       "      <td>87.000000</td>\n",
       "    </tr>\n",
       "    <tr>\n",
       "      <th>mean</th>\n",
       "      <td>16.831494</td>\n",
       "      <td>2.826437</td>\n",
       "    </tr>\n",
       "    <tr>\n",
       "      <th>std</th>\n",
       "      <td>10.657577</td>\n",
       "      <td>2.107216</td>\n",
       "    </tr>\n",
       "    <tr>\n",
       "      <th>min</th>\n",
       "      <td>0.370000</td>\n",
       "      <td>0.360000</td>\n",
       "    </tr>\n",
       "    <tr>\n",
       "      <th>25%</th>\n",
       "      <td>9.265000</td>\n",
       "      <td>1.310000</td>\n",
       "    </tr>\n",
       "    <tr>\n",
       "      <th>50%</th>\n",
       "      <td>14.300000</td>\n",
       "      <td>2.230000</td>\n",
       "    </tr>\n",
       "    <tr>\n",
       "      <th>75%</th>\n",
       "      <td>23.300000</td>\n",
       "      <td>3.735000</td>\n",
       "    </tr>\n",
       "    <tr>\n",
       "      <th>max</th>\n",
       "      <td>60.530000</td>\n",
       "      <td>10.510000</td>\n",
       "    </tr>\n",
       "  </tbody>\n",
       "</table>\n",
       "</div>"
      ],
      "text/plain": [
       "       age_diagnosis  ocular_survival\n",
       "count      87.000000        87.000000\n",
       "mean       16.831494         2.826437\n",
       "std        10.657577         2.107216\n",
       "min         0.370000         0.360000\n",
       "25%         9.265000         1.310000\n",
       "50%        14.300000         2.230000\n",
       "75%        23.300000         3.735000\n",
       "max        60.530000        10.510000"
      ]
     },
     "execution_count": 6,
     "metadata": {},
     "output_type": "execute_result"
    }
   ],
   "source": [
    "print('Description of continuous variables:')\n",
    "rb[['age_diagnosis','ocular_survival']].describe()"
   ]
  },
  {
   "cell_type": "markdown",
   "metadata": {},
   "source": [
    "## 2. Classification\n",
    "### Is there a relationship between the age at diagnosis and ocular survival?\n",
    "\n",
    "The scientific consensus is that with earlier diagnosis there is a higher chance of retaining a patient's vision, since treatment can start before the cancer cells grow and spread to neighbouring tissues. <br> \n",
    "The dataset includes patients of various age groups, from a couple of month old babies to 60 year old adults. By looking at both ocular survival and the age at diagnosis, the goal is to see if there is a pattern."
   ]
  },
  {
   "cell_type": "code",
   "execution_count": 7,
   "metadata": {},
   "outputs": [
    {
     "name": "stderr",
     "output_type": "stream",
     "text": [
      "C:\\Users\\rapef\\Anaconda3\\lib\\site-packages\\scipy\\stats\\stats.py:1713: FutureWarning: Using a non-tuple sequence for multidimensional indexing is deprecated; use `arr[tuple(seq)]` instead of `arr[seq]`. In the future this will be interpreted as an array index, `arr[np.array(seq)]`, which will result either in an error or a different result.\n",
      "  return np.add.reduce(sorted[indexer] * weights, axis=axis) / sumval\n"
     ]
    },
    {
     "data": {
      "image/png": "[encoded data removed]",
      "text/plain": [
       "<Figure size 1080x288 with 3 Axes>"
      ]
     },
     "metadata": {},
     "output_type": "display_data"
    },
    {
     "data": {
      "image/png": "[encoded data removed]",
      "text/plain": [
       "<Figure size 1080x288 with 3 Axes>"
      ]
     },
     "metadata": {},
     "output_type": "display_data"
    }
   ],
   "source": [
    "#Diagrams for Age\n",
    "fig, axes = plt.subplots(1, 3, figsize=(15, 4))\n",
    "x = np.arange(0, 9, 0.25)\n",
    "plt.suptitle('Distribution of Age at Diagnosis of Patients',fontsize=16)\n",
    "\n",
    "axes[0].boxplot(rb['age_diagnosis'])\n",
    "axes[0].set_ylabel('Age in Years')\n",
    "axes[0].get_xaxis().set_visible(False)\n",
    "\n",
    "axes[1].hist(rb['age_diagnosis'], bins = 'auto', color = 'olivedrab', edgecolor = 'black')\n",
    "axes[1].set_xlabel('Age in Years')\n",
    "axes[1].set_ylabel('Number of Patients')\n",
    "\n",
    "sns.distplot(rb['age_diagnosis'], color = 'olivedrab')\n",
    "plt.xlabel('Age')\n",
    "plt.ylabel('Density')\n",
    "\n",
    "\n",
    "#Diagrams for Ocular Survival\n",
    "fig, axes = plt.subplots(1, 3, figsize=(15, 4))\n",
    "x = np.arange(0, 9, 0.25)\n",
    "plt.suptitle('Distribution of Ocular Survival of Patients',fontsize=16)\n",
    "\n",
    "axes[0].boxplot(rb['ocular_survival'])\n",
    "axes[0].set_ylabel('Ocular Survival in Years')\n",
    "axes[0].get_xaxis().set_visible(False)\n",
    "\n",
    "axes[1].hist(rb['ocular_survival'], bins = 'auto', color = 'coral', edgecolor = 'black')\n",
    "axes[1].set_xlabel('Ocular Survival in Years')\n",
    "axes[1].set_ylabel('Number of Patients')\n",
    "\n",
    "sns.distplot(rb['ocular_survival'], color = 'coral')\n",
    "plt.xlabel('Ocular Survival in Years')\n",
    "plt.ylabel('Density')\n",
    "\n",
    "plt.show()"
   ]
  },
  {
   "cell_type": "markdown",
   "metadata": {},
   "source": [
    "### 2.1 K-means Clustering\n",
    "\n",
    "Looking at the graphs of the two variables, it is evident that they seem to show similar patterns of distribution.\n",
    "Therefore, it would be interesting to find out if there is a relationship between age of diagnosis and the ocular survival (in years). <br>\n",
    "To this end, I will create a scatterplot and apply K-means clustering, with both k=2 and k=3, to find two and three distinct clusters. Clustering, in this case, can help to find similarities in patients and make inferences about treatment and its success. <br>"
   ]
  },
  {
   "cell_type": "code",
   "execution_count": 8,
   "metadata": {},
   "outputs": [
    {
     "data": {
      "image/png": "[encoded data removed]",
      "text/plain": [
       "<Figure size 432x288 with 1 Axes>"
      ]
     },
     "metadata": {},
     "output_type": "display_data"
    }
   ],
   "source": [
    "plt.figure()\n",
    "plt.title('Scatterplot of Diagnosis and Ocular Survival\\n')\n",
    "plt.scatter(rb['age_diagnosis'], rb['ocular_survival'])\n",
    "plt.xlabel('Age at Diagnosis')\n",
    "plt.ylabel('Ocular Survival in Years')\n",
    "plt.show()"
   ]
  },
  {
   "cell_type": "code",
   "execution_count": 9,
   "metadata": {},
   "outputs": [],
   "source": [
    "#scale feature points\n",
    "X = rb[['age_diagnosis', 'ocular_survival']]\n",
    "rb_scaled = pd.DataFrame(scale(X), index = X.index, columns = X.columns)"
   ]
  },
  {
   "cell_type": "code",
   "execution_count": 10,
   "metadata": {},
   "outputs": [
    {
     "name": "stdout",
     "output_type": "stream",
     "text": [
      "\tApplying K-Means Clustering with K = 2\n",
      "\n",
      "KMeans(algorithm='auto', copy_x=True, init='k-means++', max_iter=300,\n",
      "    n_clusters=2, n_init=20, n_jobs=1, precompute_distances='auto',\n",
      "    random_state=None, tol=0.0001, verbose=0)\n",
      "\n",
      "Displaying labels\n",
      "1    48\n",
      "0    39\n",
      "dtype: int64\n",
      "\n",
      "Displaying cluster centres\n",
      "[[ 0.83378554 -0.50718602]\n",
      " [-0.67745075  0.41208864]]\n",
      "\n",
      "Inertia\n",
      "106.67468148510454\n"
     ]
    }
   ],
   "source": [
    "print('\\tApplying K-Means Clustering with K = 2\\n')\n",
    "kMeans1 = KMeans(n_clusters = 2, n_init = 20)\n",
    "print (kMeans1.fit(rb_scaled) )\n",
    "print('\\nDisplaying labels\\n%s' %pd.Series(kMeans1.labels_).value_counts() )\n",
    "print('\\nDisplaying cluster centres\\n%s' %kMeans1.cluster_centers_ )\n",
    "print('\\nInertia\\n%s' %kMeans1.inertia_ )"
   ]
  },
  {
   "cell_type": "code",
   "execution_count": 11,
   "metadata": {},
   "outputs": [
    {
     "name": "stdout",
     "output_type": "stream",
     "text": [
      "\tApplying K-Keans Clustering with K = 3\n",
      "\n",
      "KMeans(algorithm='auto', copy_x=True, init='k-means++', max_iter=300,\n",
      "    n_clusters=3, n_init=20, n_jobs=1, precompute_distances='auto',\n",
      "    random_state=None, tol=0.0001, verbose=0)\n",
      "\n",
      "Displaying labels\n",
      "2    45\n",
      "0    29\n",
      "1    13\n",
      "dtype: int64\n",
      "\n",
      "Displaying cluster centres\n",
      "[[ 1.12124879 -0.50227364]\n",
      " [-0.47527734  1.99135261]\n",
      " [-0.58528021 -0.25159219]]\n",
      "\n",
      "Inertia\n",
      "57.47396884662702\n"
     ]
    }
   ],
   "source": [
    "print('\\tApplying K-Keans Clustering with K = 3\\n')\n",
    "np.random.seed(4)\n",
    "kMeans2 = KMeans(n_clusters = 3, n_init = 20)\n",
    "print (kMeans2.fit(rb_scaled))\n",
    "print('\\nDisplaying labels\\n%s' %pd.Series(kMeans2.labels_).value_counts() )\n",
    "print('\\nDisplaying cluster centres\\n%s' %kMeans2.cluster_centers_ )\n",
    "print('\\nInertia\\n%s' %kMeans2.inertia_ )"
   ]
  },
  {
   "cell_type": "code",
   "execution_count": 12,
   "metadata": {},
   "outputs": [
    {
     "data": {
      "image/png": "[encoded data removed]",
      "text/plain": [
       "<Figure size 1008x360 with 2 Axes>"
      ]
     },
     "metadata": {},
     "output_type": "display_data"
    }
   ],
   "source": [
    "fig, (ax1, ax2) = plt.subplots(1,2, figsize=(14,5))\n",
    "\n",
    "ax1.scatter(rb_scaled['age_diagnosis'], rb_scaled['ocular_survival'], s=40, c=kMeans1.labels_, cmap=plt.cm.brg) \n",
    "ax1.set_title('K-Means Clustering Results with K=2\\n')\n",
    "ax1.scatter(kMeans1.cluster_centers_[:,0], kMeans1.cluster_centers_[:,1], marker='+', s=100, c='k', linewidth=2)\n",
    "ax1.set_xlabel('Age at Diagnosis')\n",
    "ax1.set_ylabel('Ocular Survival in Years')\n",
    "\n",
    "ax2.scatter(rb_scaled['age_diagnosis'], rb_scaled['ocular_survival'], s=40, c=kMeans2.labels_, cmap=plt.cm.brg) \n",
    "ax2.set_title('K-Means Clustering Results with K=3\\n')\n",
    "ax2.scatter(kMeans2.cluster_centers_[:,0], kMeans2.cluster_centers_[:,1], marker='+', s=100, c='k', linewidth=2)\n",
    "ax2.set_xlabel('Age at Diagnosis')\n",
    "ax2.set_ylabel('Ocular Survival in Years')\n",
    "\n",
    "plt.show()"
   ]
  },
  {
   "cell_type": "markdown",
   "metadata": {},
   "source": [
    "### Examining the clusters\n",
    "\n",
    "Looking at the two plots, it would be interesting to examine the two clusters resulting from K-means with k=2 as a clear trend can be observed. Additionally, the two clusters seem to be of approximately the same size."
   ]
  },
  {
   "cell_type": "code",
   "execution_count": 13,
   "metadata": {},
   "outputs": [
    {
     "data": {
      "text/html": [
       "<div>\n",
       "<style scoped>\n",
       "    .dataframe tbody tr th:only-of-type {\n",
       "        vertical-align: middle;\n",
       "    }\n",
       "\n",
       "    .dataframe tbody tr th {\n",
       "        vertical-align: top;\n",
       "    }\n",
       "\n",
       "    .dataframe thead th {\n",
       "        text-align: right;\n",
       "    }\n",
       "</style>\n",
       "<table border=\"1\" class=\"dataframe\">\n",
       "  <thead>\n",
       "    <tr style=\"text-align: right;\">\n",
       "      <th></th>\n",
       "      <th>age_diagnosis</th>\n",
       "      <th>sex</th>\n",
       "      <th>prior_treatment</th>\n",
       "      <th>family_history</th>\n",
       "      <th>lateral_RB</th>\n",
       "      <th>lateral_RD</th>\n",
       "      <th>max_RRA</th>\n",
       "      <th>final_RD_status</th>\n",
       "      <th>ocular_survival</th>\n",
       "      <th>cluster</th>\n",
       "    </tr>\n",
       "  </thead>\n",
       "  <tbody>\n",
       "    <tr>\n",
       "      <th>0</th>\n",
       "      <td>21.67</td>\n",
       "      <td>1</td>\n",
       "      <td>1</td>\n",
       "      <td>0</td>\n",
       "      <td>2</td>\n",
       "      <td>1</td>\n",
       "      <td>2</td>\n",
       "      <td>2</td>\n",
       "      <td>10.51</td>\n",
       "      <td>1</td>\n",
       "    </tr>\n",
       "    <tr>\n",
       "      <th>1</th>\n",
       "      <td>12.93</td>\n",
       "      <td>1</td>\n",
       "      <td>0</td>\n",
       "      <td>0</td>\n",
       "      <td>1</td>\n",
       "      <td>0</td>\n",
       "      <td>1</td>\n",
       "      <td>1</td>\n",
       "      <td>6.64</td>\n",
       "      <td>1</td>\n",
       "    </tr>\n",
       "    <tr>\n",
       "      <th>2</th>\n",
       "      <td>26.03</td>\n",
       "      <td>0</td>\n",
       "      <td>0</td>\n",
       "      <td>0</td>\n",
       "      <td>2</td>\n",
       "      <td>1</td>\n",
       "      <td>0</td>\n",
       "      <td>0</td>\n",
       "      <td>0.55</td>\n",
       "      <td>0</td>\n",
       "    </tr>\n",
       "    <tr>\n",
       "      <th>3</th>\n",
       "      <td>10.30</td>\n",
       "      <td>1</td>\n",
       "      <td>0</td>\n",
       "      <td>0</td>\n",
       "      <td>1</td>\n",
       "      <td>1</td>\n",
       "      <td>2</td>\n",
       "      <td>2</td>\n",
       "      <td>8.58</td>\n",
       "      <td>1</td>\n",
       "    </tr>\n",
       "    <tr>\n",
       "      <th>4</th>\n",
       "      <td>12.40</td>\n",
       "      <td>1</td>\n",
       "      <td>0</td>\n",
       "      <td>0</td>\n",
       "      <td>1</td>\n",
       "      <td>0</td>\n",
       "      <td>2</td>\n",
       "      <td>2</td>\n",
       "      <td>8.88</td>\n",
       "      <td>1</td>\n",
       "    </tr>\n",
       "  </tbody>\n",
       "</table>\n",
       "</div>"
      ],
      "text/plain": [
       "   age_diagnosis  sex  prior_treatment  family_history  lateral_RB  \\\n",
       "0          21.67    1                1               0           2   \n",
       "1          12.93    1                0               0           1   \n",
       "2          26.03    0                0               0           2   \n",
       "3          10.30    1                0               0           1   \n",
       "4          12.40    1                0               0           1   \n",
       "\n",
       "   lateral_RD  max_RRA  final_RD_status  ocular_survival  cluster  \n",
       "0           1        2                2            10.51        1  \n",
       "1           0        1                1             6.64        1  \n",
       "2           1        0                0             0.55        0  \n",
       "3           1        2                2             8.58        1  \n",
       "4           0        2                2             8.88        1  "
      ]
     },
     "execution_count": 13,
     "metadata": {},
     "output_type": "execute_result"
    }
   ],
   "source": [
    "#create new dataframe to insert a column cluster and sort it by the cluster it was assigned to\n",
    "rb1 = rb\n",
    "rb1['cluster'] = kMeans1.predict(rb_scaled)\n",
    "rb1.head()"
   ]
  },
  {
   "cell_type": "code",
   "execution_count": 14,
   "metadata": {},
   "outputs": [
    {
     "name": "stdout",
     "output_type": "stream",
     "text": [
      "Displaying the first 5 items from the blue cluster (0)\n",
      "     age_diagnosis  ocular_survival  cluster\n",
      "43          41.17             2.40        0\n",
      "37          24.10             3.18        0\n",
      "38          28.83             0.96        0\n",
      "42          20.40             2.05        0\n",
      "85          24.63             0.77        0\n",
      "\n",
      "Displaying the last 5 items from the green cluster (1)\n",
      "     age_diagnosis  ocular_survival  cluster\n",
      "16           0.37             5.98        1\n",
      "56           8.67             2.53        1\n",
      "57          15.57             2.30        1\n",
      "22          10.60             1.21        1\n",
      "0           21.67            10.51        1\n"
     ]
    }
   ],
   "source": [
    "rb1 = rb1[['age_diagnosis', 'ocular_survival','cluster']]\n",
    "print('Displaying the first 5 items from the blue cluster (0)\\n', rb1.sort_values(by=['cluster']).head() )\n",
    "print('\\nDisplaying the last 5 items from the green cluster (1)\\n', rb1.sort_values(by=['cluster']).tail() )"
   ]
  },
  {
   "cell_type": "code",
   "execution_count": 15,
   "metadata": {},
   "outputs": [
    {
     "name": "stdout",
     "output_type": "stream",
     "text": [
      "                 count       mean      std    min     25%    50%    75%    max\n",
      "age_diagnosis     39.0  25.666410  9.18131  13.77  20.265  24.63  29.05  60.53\n",
      "ocular_survival   39.0   1.763846  0.88535   0.50   1.240   1.55   2.30   4.03\n",
      "cluster           39.0   0.000000  0.00000   0.00   0.000   0.00   0.00   0.00\n"
     ]
    }
   ],
   "source": [
    "print(rb1[rb1['cluster']==0].describe().transpose())"
   ]
  },
  {
   "cell_type": "code",
   "execution_count": 16,
   "metadata": {},
   "outputs": [
    {
     "name": "stdout",
     "output_type": "stream",
     "text": [
      "                 count      mean       std   min    25%   50%      75%    max\n",
      "age_diagnosis     48.0  9.653125  4.720685  0.37  5.615  9.93  12.2700  21.67\n",
      "ocular_survival   48.0  3.689792  2.406868  0.36  1.840  3.11   4.7525  10.51\n",
      "cluster           48.0  1.000000  0.000000  1.00  1.000  1.00   1.0000   1.00\n"
     ]
    }
   ],
   "source": [
    "print(rb1[rb1['cluster']==1].describe().transpose())"
   ]
  },
  {
   "cell_type": "markdown",
   "metadata": {},
   "source": [
    "### Interpretation\n",
    "\n",
    "The first cluster (cluster 0, blue) represents the group of patients with low ocular survival, ranging from 6 months to 4 years, that are older with a mean of 25 1/2 years. <br>\n",
    "The second cluster (cluster 1, green) represents the group of young patients, with a mean of 9 1/2 years, that have an ocular survival that can reach 10 1/2 years. <br>\n",
    "From this we can conclude that the higher the age of the patient, the less likely it is to save the patient's eye/sight.<br>Therefore, it would be recommended to seek a doctor at an early age to improve the likelihood of ocular survival. If no family history or genetical defect are known, it would be recommended to visit an ophthalmologist at regular intervals."
   ]
  },
  {
   "cell_type": "markdown",
   "metadata": {},
   "source": [
    "### 2.2 Hierachical Clustering\n",
    "\n",
    "Another algorithm in unsupervised learning is hierarchical clustering that returns a dendrogram based on the linkage criteria. <br>\n",
    "Here, we will try three types of linkage - single, average and complete."
   ]
  },
  {
   "cell_type": "code",
   "execution_count": 17,
   "metadata": {},
   "outputs": [
    {
     "data": {
      "text/plain": [
       "Text(0.5,1,'Single Linkage')"
      ]
     },
     "execution_count": 17,
     "metadata": {},
     "output_type": "execute_result"
    },
    {
     "data": {
      "image/png": "[encoded data removed]",
      "text/plain": [
       "<Figure size 1080x1296 with 3 Axes>"
      ]
     },
     "metadata": {},
     "output_type": "display_data"
    }
   ],
   "source": [
    "fig, (ax1,ax2,ax3) = plt.subplots(3,1, figsize=(15,18))\n",
    "\n",
    "for linkage, cluster, ax in zip([hierarchy.complete(rb_scaled), hierarchy.average(rb_scaled), hierarchy.single(rb_scaled)], ['c1','c2','c3'],\n",
    "                                [ax1,ax2,ax3]):\n",
    "    cluster = hierarchy.dendrogram(linkage, ax=ax, color_threshold=0)\n",
    "\n",
    "ax1.set_title('Complete Linkage')\n",
    "ax2.set_title('Average Linkage')\n",
    "ax3.set_title('Single Linkage')"
   ]
  },
  {
   "cell_type": "markdown",
   "metadata": {},
   "source": [
    "### Examining the cuts"
   ]
  },
  {
   "cell_type": "markdown",
   "metadata": {},
   "source": [
    "#### Cluster assignments for complete linkage"
   ]
  },
  {
   "cell_type": "code",
   "execution_count": 18,
   "metadata": {},
   "outputs": [
    {
     "name": "stdout",
     "output_type": "stream",
     "text": [
      "    Two Clusters  Three Clusters\n",
      "0              0               0\n",
      "1              0               0\n",
      "2              0               1\n",
      "3              0               0\n",
      "4              0               0\n",
      "5              0               1\n",
      "6              0               0\n",
      "7              1               2\n",
      "8              0               0\n",
      "9              0               1\n",
      "10             0               1\n",
      "11             0               0\n",
      "12             0               0\n",
      "13             0               1\n",
      "14             0               0\n",
      "15             0               1\n",
      "16             0               0\n",
      "17             0               1\n",
      "18             0               0\n",
      "19             0               1\n",
      "20             0               1\n",
      "21             0               1\n",
      "22             0               1\n",
      "23             0               1\n",
      "24             0               1\n",
      "25             0               1\n",
      "26             0               1\n",
      "27             0               1\n",
      "28             0               1\n",
      "29             0               1\n",
      "..           ...             ...\n",
      "57             0               1\n",
      "58             0               1\n",
      "59             0               1\n",
      "60             0               1\n",
      "61             0               1\n",
      "62             0               1\n",
      "63             0               1\n",
      "64             0               1\n",
      "65             0               1\n",
      "66             0               1\n",
      "67             0               1\n",
      "68             0               1\n",
      "69             0               1\n",
      "70             0               1\n",
      "71             0               1\n",
      "72             0               1\n",
      "73             0               1\n",
      "74             0               1\n",
      "75             1               2\n",
      "76             0               1\n",
      "77             0               1\n",
      "78             0               1\n",
      "79             0               1\n",
      "80             0               1\n",
      "81             0               1\n",
      "82             1               2\n",
      "83             0               1\n",
      "84             0               1\n",
      "85             0               1\n",
      "86             0               1\n",
      "\n",
      "[87 rows x 2 columns]\n"
     ]
    }
   ],
   "source": [
    "cuts1 = hierarchy.cut_tree(hierarchy.complete(rb_scaled), n_clusters=[2, 3])\n",
    "cuts1DF = pd.DataFrame(cuts1, columns = ['Two Clusters', 'Three Clusters'])\n",
    "print(cuts1DF)"
   ]
  },
  {
   "cell_type": "markdown",
   "metadata": {},
   "source": [
    "#### Cluster assignments for average linkage"
   ]
  },
  {
   "cell_type": "code",
   "execution_count": 19,
   "metadata": {},
   "outputs": [
    {
     "name": "stdout",
     "output_type": "stream",
     "text": [
      "    Two Clusters  Three Clusters\n",
      "0              0               0\n",
      "1              0               0\n",
      "2              0               1\n",
      "3              0               0\n",
      "4              0               0\n",
      "5              0               1\n",
      "6              0               0\n",
      "7              1               2\n",
      "8              0               0\n",
      "9              0               1\n",
      "10             0               1\n",
      "11             0               0\n",
      "12             0               0\n",
      "13             0               1\n",
      "14             0               0\n",
      "15             0               1\n",
      "16             0               0\n",
      "17             0               1\n",
      "18             0               0\n",
      "19             0               1\n",
      "20             0               1\n",
      "21             0               1\n",
      "22             0               1\n",
      "23             0               1\n",
      "24             0               1\n",
      "25             0               1\n",
      "26             0               1\n",
      "27             0               1\n",
      "28             0               1\n",
      "29             0               1\n",
      "..           ...             ...\n",
      "57             0               1\n",
      "58             0               1\n",
      "59             0               1\n",
      "60             0               1\n",
      "61             0               1\n",
      "62             0               1\n",
      "63             0               1\n",
      "64             0               1\n",
      "65             0               1\n",
      "66             0               1\n",
      "67             0               1\n",
      "68             0               1\n",
      "69             0               1\n",
      "70             0               1\n",
      "71             0               1\n",
      "72             0               1\n",
      "73             0               1\n",
      "74             0               1\n",
      "75             0               1\n",
      "76             0               1\n",
      "77             0               1\n",
      "78             0               1\n",
      "79             0               1\n",
      "80             0               1\n",
      "81             0               1\n",
      "82             0               1\n",
      "83             0               1\n",
      "84             0               1\n",
      "85             0               1\n",
      "86             0               1\n",
      "\n",
      "[87 rows x 2 columns]\n"
     ]
    }
   ],
   "source": [
    "cuts2 = hierarchy.cut_tree(hierarchy.average(rb_scaled), n_clusters=[2, 3])\n",
    "cuts2DF = pd.DataFrame(cuts2, columns = ['Two Clusters', 'Three Clusters'])\n",
    "print(cuts2DF)"
   ]
  },
  {
   "cell_type": "markdown",
   "metadata": {},
   "source": [
    "#### Cluster assignments for single linkage"
   ]
  },
  {
   "cell_type": "code",
   "execution_count": 20,
   "metadata": {},
   "outputs": [
    {
     "name": "stdout",
     "output_type": "stream",
     "text": [
      "    Two Clusters  Three Clusters\n",
      "0              0               0\n",
      "1              0               1\n",
      "2              0               1\n",
      "3              0               1\n",
      "4              0               1\n",
      "5              0               1\n",
      "6              0               1\n",
      "7              1               2\n",
      "8              0               1\n",
      "9              0               1\n",
      "10             0               1\n",
      "11             0               1\n",
      "12             0               1\n",
      "13             0               1\n",
      "14             0               1\n",
      "15             0               1\n",
      "16             0               1\n",
      "17             0               1\n",
      "18             0               1\n",
      "19             0               1\n",
      "20             0               1\n",
      "21             0               1\n",
      "22             0               1\n",
      "23             0               1\n",
      "24             0               1\n",
      "25             0               1\n",
      "26             0               1\n",
      "27             0               1\n",
      "28             0               1\n",
      "29             0               1\n",
      "..           ...             ...\n",
      "57             0               1\n",
      "58             0               1\n",
      "59             0               1\n",
      "60             0               1\n",
      "61             0               1\n",
      "62             0               1\n",
      "63             0               1\n",
      "64             0               1\n",
      "65             0               1\n",
      "66             0               1\n",
      "67             0               1\n",
      "68             0               1\n",
      "69             0               1\n",
      "70             0               1\n",
      "71             0               1\n",
      "72             0               1\n",
      "73             0               1\n",
      "74             0               1\n",
      "75             0               1\n",
      "76             0               1\n",
      "77             0               1\n",
      "78             0               1\n",
      "79             0               1\n",
      "80             0               1\n",
      "81             0               1\n",
      "82             0               1\n",
      "83             0               1\n",
      "84             0               1\n",
      "85             0               1\n",
      "86             0               1\n",
      "\n",
      "[87 rows x 2 columns]\n"
     ]
    }
   ],
   "source": [
    "cuts3 = hierarchy.cut_tree(hierarchy.single(rb_scaled), n_clusters=[2, 3])\n",
    "cuts3DF = pd.DataFrame(cuts3, columns = ['Two Clusters', 'Three Clusters'])\n",
    "print(cuts3DF)"
   ]
  },
  {
   "cell_type": "markdown",
   "metadata": {},
   "source": [
    "Even though it is evident that the algorithm splits the data at distinct points, the downside of hierarchical clustering is that it is hard to read and therefore harder to interpret. <br> Therefore, K-means clustering would be my prefered method of finding groups of similar items.  "
   ]
  },
  {
   "cell_type": "markdown",
   "metadata": {},
   "source": [
    "## 3. Linear Regression Analysis\n",
    "### Can we predict the ocular survival?\n",
    "\n",
    "Based on the sample data and the clustering results, it would be interesting to find out if it is possible to predict how many years patients can expect to maintain their eyesight and ultimately, keep their eyes. Since the clustering results showed that age and ocular survival can be linked, we will consider only those two variables."
   ]
  },
  {
   "cell_type": "markdown",
   "metadata": {},
   "source": [
    "### Simple Linear Regression\n",
    "\n",
    "The goal is to predict ocular survival based on the age at diagnosis."
   ]
  },
  {
   "cell_type": "code",
   "execution_count": 21,
   "metadata": {},
   "outputs": [],
   "source": [
    "rb2 = pd.read_csv('RB.csv').fillna(0)\n",
    "y = rb2['ocular_survival']\n",
    "X = rb2['age_diagnosis']"
   ]
  },
  {
   "cell_type": "code",
   "execution_count": 22,
   "metadata": {
    "scrolled": true
   },
   "outputs": [
    {
     "data": {
      "image/png": "[encoded data removed]",
      "text/plain": [
       "<Figure size 432x288 with 1 Axes>"
      ]
     },
     "metadata": {},
     "output_type": "display_data"
    }
   ],
   "source": [
    "plt.scatter(X, y, color = 'burlywood')\n",
    "plt.xlabel('Age at diagnosis')\n",
    "plt.ylabel('Ocular Survival in Years')\n",
    "plt.title('Scatterplot: The Effect of Age on Ocular Survival')\n",
    "plt.show()"
   ]
  },
  {
   "cell_type": "code",
   "execution_count": 23,
   "metadata": {},
   "outputs": [],
   "source": [
    "X_train, X_test, y_train, y_test = train_test_split(rb2, y, test_size=0.5, train_size = 0.5, random_state = 42)\n",
    "\n",
    "linreg = LinearRegression()\n",
    "\n",
    "linreg.fit(X_train, y_train)\n",
    "\n",
    "train_preds = linreg.predict(X_train)\n",
    "test_preds = linreg.predict(X_test)\n",
    "\n",
    "train_mse = mean_squared_error(y_train, train_preds)\n",
    "test_mse = mean_squared_error(y_test, test_preds)\n",
    "\n",
    "train_r2 = r2_score(y_train, train_preds)\n",
    "test_r2 = r2_score(y_test, test_preds)\n",
    "\n",
    "train_explained = explained_variance_score(y_train, train_preds)  \n",
    "test_explained = explained_variance_score(y_test, test_preds)"
   ]
  },
  {
   "cell_type": "code",
   "execution_count": 24,
   "metadata": {},
   "outputs": [
    {
     "data": {
      "image/png": "[encoded data removed]",
      "text/plain": [
       "<Figure size 1008x360 with 2 Axes>"
      ]
     },
     "metadata": {},
     "output_type": "display_data"
    },
    {
     "name": "stdout",
     "output_type": "stream",
     "text": [
      "Training MSE: 1.2745320650015206e-28\n",
      "Test MSE: 2.085840257838789e-28\n",
      "\n",
      "Training R^2 score: 1.0\n",
      "Test R^2 score: 1.0\n",
      "\n",
      "Train Explained Variance Score: 1.0\n",
      "Test Explained Variance Score: 1.0\n"
     ]
    }
   ],
   "source": [
    "fig, (ax1, ax2) = plt.subplots(1,2, figsize=(14,5))\n",
    "\n",
    "ax1.scatter(y_train, train_preds,color = 'g') \n",
    "ax1.set_title('Training Predictions vs. Actual Y value')\n",
    "ax1.set_xlabel('Actual y Value')\n",
    "ax1.set_ylabel('Predicted y Value')\n",
    "\n",
    "ax2.scatter(y_test, test_preds,color = 'r') \n",
    "ax2.set_title('Test Predictions vs. Actual Y value')\n",
    "ax2.set_xlabel('Actual y Value')\n",
    "ax2.set_ylabel('Predicted y Value')\n",
    "\n",
    "plt.show()\n",
    "\n",
    "print('Training MSE: %s' % train_mse)\n",
    "print('Test MSE: %s\\n' %test_mse)\n",
    "print('Training R^2 score: %s' %train_r2)\n",
    "print('Test R^2 score: %s\\n' %test_r2)\n",
    "print('Train Explained Variance Score: %s' %train_explained)\n",
    "print('Test Explained Variance Score: %s' %test_explained)"
   ]
  },
  {
   "cell_type": "markdown",
   "metadata": {},
   "source": [
    "Since the training and test mean squared error is so low, and both training and testing R^2 score and explained variance score are perfect, it is interesting to create a residual plot to make sure that the residuals follow normal distribution with mean = 0 and variance = s^2."
   ]
  },
  {
   "cell_type": "code",
   "execution_count": 25,
   "metadata": {},
   "outputs": [
    {
     "name": "stdout",
     "output_type": "stream",
     "text": [
      "Note that the linear regression model was trained using training data.\n"
     ]
    },
    {
     "data": {
      "image/png": "[encoded data removed]",
      "text/plain": [
       "<Figure size 1080x288 with 2 Axes>"
      ]
     },
     "metadata": {},
     "output_type": "display_data"
    }
   ],
   "source": [
    "print('Note that the linear regression model was trained using training data.')\n",
    "fig, axes = plt.subplots(1, 2, figsize=(15, 4))\n",
    "\n",
    "sns.residplot(train_preds, y_train, lowess= True, color = 'r', scatter_kws={\"s\": 80}, ax=axes[0])\n",
    "axes[0].set_title('Residual Plot using Training Data')\n",
    "axes[0].set_xlabel('Predicted values')\n",
    "axes[0].set_ylabel('Residuals')\n",
    "\n",
    "sns.residplot(test_preds, y_test, lowess=True, color = 'b', scatter_kws={\"s\": 80}, ax = axes[1])\n",
    "axes[1].set_title('Residual Plot using Testing Data')\n",
    "axes[1].set_xlabel('Predicted values')\n",
    "axes[1].set_ylabel('Residuals')\n",
    "     \n",
    "plt.show()"
   ]
  },
  {
   "cell_type": "code",
   "execution_count": 26,
   "metadata": {},
   "outputs": [
    {
     "name": "stderr",
     "output_type": "stream",
     "text": [
      "C:\\Users\\rapef\\Anaconda3\\lib\\site-packages\\scipy\\stats\\stats.py:1713: FutureWarning: Using a non-tuple sequence for multidimensional indexing is deprecated; use `arr[tuple(seq)]` instead of `arr[seq]`. In the future this will be interpreted as an array index, `arr[np.array(seq)]`, which will result either in an error or a different result.\n",
      "  return np.add.reduce(sorted[indexer] * weights, axis=axis) / sumval\n"
     ]
    },
    {
     "data": {
      "image/png": "[encoded data removed]",
      "text/plain": [
       "<Figure size 432x288 with 1 Axes>"
      ]
     },
     "metadata": {},
     "output_type": "display_data"
    }
   ],
   "source": [
    "sns.distplot((y_test-test_preds),bins= 'auto', color = 'r')\n",
    "sns.distplot((y_train-train_preds), bins = 'auto', color = 'teal')\n",
    "plt.title('Residuals: Observed - Expected')\n",
    "plt.xlabel('Difference between actual and predicted')\n",
    "plt.show()"
   ]
  },
  {
   "cell_type": "markdown",
   "metadata": {},
   "source": [
    "It is visible that the residuals follow normal distribution. <br>\n",
    "Considering the results of linear regression, it can be concluded that it is possible to predict ocular survival based on the age of diagnosis. <br>\n",
    "The prefect accuracy can be explained two-fold:\n",
    "1. The data set is too small (only 87 data points) so that the model was overfitted. It would be interesting to conduct the same procedure with a larger data set to see if the same results would be expected.\n",
    "2. Ocular survival is highly dependend on the age at diagnosis. With an earlier detection of disease, it is more likely to save a patient's vision. Therefore, just like mentioned in the previous section, it is recommended to seek a professional when signs of disease are noticable or when family history exists."
   ]
  },
  {
   "cell_type": "markdown",
   "metadata": {},
   "source": [
    "## 3. Classification\n",
    "### Is it possible to predict the success of therapy? \n",
    "At the initial stages of treatment, not all the data is available to predict the success of therapy. Some clinical tests require long waiting times and in the case of retinal reattachment surgery, a variety of different features influence the success of treatment, some of which can't be determined readily. Even then, the outcome cannot be guaranteed because many other factors impact how a patient reacts to a certain treatment. More research in this field is needed. <br>\n",
    "Using machine learning to \"make sense\" of the data at hand could improve diagnositics and treatment possibilities. <br>\n",
    "Here, only some of features will be used to make predictions; those that doctors would have at hand. <br>\n",
    "To measure success, I will consider both the maximal retinal reattachment and the final retinal detachment status, separately. Then, applying both logistic regression and gradient boost, the two models will be compared for accuracy."
   ]
  },
  {
   "cell_type": "code",
   "execution_count": 27,
   "metadata": {},
   "outputs": [
    {
     "data": {
      "text/html": [
       "<div>\n",
       "<style scoped>\n",
       "    .dataframe tbody tr th:only-of-type {\n",
       "        vertical-align: middle;\n",
       "    }\n",
       "\n",
       "    .dataframe tbody tr th {\n",
       "        vertical-align: top;\n",
       "    }\n",
       "\n",
       "    .dataframe thead th {\n",
       "        text-align: right;\n",
       "    }\n",
       "</style>\n",
       "<table border=\"1\" class=\"dataframe\">\n",
       "  <thead>\n",
       "    <tr style=\"text-align: right;\">\n",
       "      <th></th>\n",
       "      <th>age_diagnosis</th>\n",
       "      <th>sex</th>\n",
       "      <th>prior_treatment</th>\n",
       "      <th>family_history</th>\n",
       "      <th>lateral_RB</th>\n",
       "      <th>lateral_RD</th>\n",
       "      <th>max_RRA</th>\n",
       "      <th>final_RD_status</th>\n",
       "      <th>ocular_survival</th>\n",
       "    </tr>\n",
       "  </thead>\n",
       "  <tbody>\n",
       "    <tr>\n",
       "      <th>0</th>\n",
       "      <td>21.67</td>\n",
       "      <td>1</td>\n",
       "      <td>1</td>\n",
       "      <td>0</td>\n",
       "      <td>2</td>\n",
       "      <td>1</td>\n",
       "      <td>2</td>\n",
       "      <td>2</td>\n",
       "      <td>10.51</td>\n",
       "    </tr>\n",
       "    <tr>\n",
       "      <th>1</th>\n",
       "      <td>12.93</td>\n",
       "      <td>1</td>\n",
       "      <td>0</td>\n",
       "      <td>0</td>\n",
       "      <td>1</td>\n",
       "      <td>0</td>\n",
       "      <td>1</td>\n",
       "      <td>1</td>\n",
       "      <td>6.64</td>\n",
       "    </tr>\n",
       "    <tr>\n",
       "      <th>2</th>\n",
       "      <td>26.03</td>\n",
       "      <td>0</td>\n",
       "      <td>0</td>\n",
       "      <td>0</td>\n",
       "      <td>2</td>\n",
       "      <td>1</td>\n",
       "      <td>0</td>\n",
       "      <td>0</td>\n",
       "      <td>0.55</td>\n",
       "    </tr>\n",
       "    <tr>\n",
       "      <th>3</th>\n",
       "      <td>10.30</td>\n",
       "      <td>1</td>\n",
       "      <td>0</td>\n",
       "      <td>0</td>\n",
       "      <td>1</td>\n",
       "      <td>1</td>\n",
       "      <td>2</td>\n",
       "      <td>2</td>\n",
       "      <td>8.58</td>\n",
       "    </tr>\n",
       "    <tr>\n",
       "      <th>4</th>\n",
       "      <td>12.40</td>\n",
       "      <td>1</td>\n",
       "      <td>0</td>\n",
       "      <td>0</td>\n",
       "      <td>1</td>\n",
       "      <td>0</td>\n",
       "      <td>2</td>\n",
       "      <td>2</td>\n",
       "      <td>8.88</td>\n",
       "    </tr>\n",
       "  </tbody>\n",
       "</table>\n",
       "</div>"
      ],
      "text/plain": [
       "   age_diagnosis  sex  prior_treatment  family_history  lateral_RB  \\\n",
       "0          21.67    1                1               0           2   \n",
       "1          12.93    1                0               0           1   \n",
       "2          26.03    0                0               0           2   \n",
       "3          10.30    1                0               0           1   \n",
       "4          12.40    1                0               0           1   \n",
       "\n",
       "   lateral_RD  max_RRA  final_RD_status  ocular_survival  \n",
       "0           1        2                2            10.51  \n",
       "1           0        1                1             6.64  \n",
       "2           1        0                0             0.55  \n",
       "3           1        2                2             8.58  \n",
       "4           0        2                2             8.88  "
      ]
     },
     "execution_count": 27,
     "metadata": {},
     "output_type": "execute_result"
    }
   ],
   "source": [
    "#create new dataframe to avoid errors\n",
    "rb3 = pd.read_csv('RB.csv').fillna(0)\n",
    "rb3.head()"
   ]
  },
  {
   "cell_type": "code",
   "execution_count": 28,
   "metadata": {},
   "outputs": [],
   "source": [
    "features = rb3[['age_diagnosis', 'sex', 'family_history', 'prior_treatment', 'lateral_RB', 'lateral_RD']]\n",
    "y1 = rb3['max_RRA']\n",
    "y2 = rb3['final_RD_status']"
   ]
  },
  {
   "cell_type": "code",
   "execution_count": 29,
   "metadata": {},
   "outputs": [
    {
     "data": {
      "image/png": "[encoded data removed]",
      "text/plain": [
       "<Figure size 1080x288 with 2 Axes>"
      ]
     },
     "metadata": {},
     "output_type": "display_data"
    }
   ],
   "source": [
    "fig, axes = plt.subplots(1, 2, figsize = (15, 4))\n",
    "\n",
    "x = np.arange(0, 9, 0.25)\n",
    "\n",
    "plt.suptitle('Histograms of Response Variables',fontsize=16)\n",
    "\n",
    "axes[0].hist(y1, bins = 5, color = 'azure', edgecolor = 'black')\n",
    "axes[0].set_xlabel('Maximal Retinal Reattachment Status (0: No resolution, 1: Partial, 2:Complete)')\n",
    "axes[0].set_ylabel('Frequency')\n",
    "axes[0].get_xaxis().set_ticks([0,1,2])\n",
    "\n",
    "axes[1].hist(y2, bins = 5, color = 'bisque', edgecolor = 'black')\n",
    "axes[1].set_xlabel('Final Retinal Detachment Status (0: Tractional Retinal Detachment, 1: Partial, 2: Complete)')\n",
    "axes[1].set_ylabel('Frequency')\n",
    "axes[1].get_xaxis().set_ticks([0,1,2])\n",
    "\n",
    "plt.show()"
   ]
  },
  {
   "cell_type": "code",
   "execution_count": 30,
   "metadata": {},
   "outputs": [
    {
     "data": {
      "image/png": "[encoded data removed]",
      "text/plain": [
       "<Figure size 1080x288 with 2 Axes>"
      ]
     },
     "metadata": {},
     "output_type": "display_data"
    }
   ],
   "source": [
    "fig, axes = plt.subplots(1, 2, figsize = (15, 4))\n",
    "\n",
    "x = np.arange(0, 9, 0.25)\n",
    "plt.suptitle('Histograms of Family History and Laterality of Disease', fontsize = 16)\n",
    "\n",
    "axes[0].hist(rb3['family_history'], bins = 5, color = 'maroon', edgecolor = 'black')\n",
    "axes[0].set_xlabel('Family History, 0: no & 1: yes')\n",
    "axes[0].set_ylabel('Frequency')\n",
    "axes[0].get_xaxis().set_ticks([0,1])\n",
    "\n",
    "axes[1].hist(rb3['lateral_RB'], bins = 5, color = 'indigo', edgecolor = 'black')\n",
    "axes[1].set_xlabel('Laterality of retinoblastoma, 1: uni & 2: bi')\n",
    "axes[1].set_ylabel('Frequency')\n",
    "axes[1].get_xaxis().set_ticks([1,2])\n",
    "\n",
    "plt.show()"
   ]
  },
  {
   "cell_type": "code",
   "execution_count": 31,
   "metadata": {},
   "outputs": [],
   "source": [
    "#create new columns for the diagram below\n",
    "rb3['Treatment'] = rb3['prior_treatment'].replace([0, 1, 2, 3], ['None', 'Systemic Chemotherapy', 'Intra-arterial Chemotherapy', 'Bridge Chemotherapy'])                     \n",
    "rb3['Sex'] = rb3['sex'].replace([0,1], ['Male', 'Female'])\n",
    "rb3['Laterality of RD'] = rb3['lateral_RD'].replace([0,1], ['Right Eye', 'Left Eye'])\n",
    "\n",
    "diagram = rb3[['Treatment', 'Sex', 'age_diagnosis', 'Laterality of RD']]"
   ]
  },
  {
   "cell_type": "code",
   "execution_count": 32,
   "metadata": {},
   "outputs": [
    {
     "data": {
      "image/png": "[encoded data removed]",
      "text/plain": [
       "<Figure size 896.125x360 with 2 Axes>"
      ]
     },
     "metadata": {},
     "output_type": "display_data"
    }
   ],
   "source": [
    "plot3 = sns.catplot(x = 'Sex', y = 'age_diagnosis', col = 'Laterality of RD', hue = 'Treatment', data = diagram, kind = 'swarm')\n",
    "fig = plot3.fig\n",
    "fig.subplots_adjust(top=0.8, wspace=0.3)\n",
    "plot3.set_axis_labels('Sex','Age at diagnosis')\n",
    "fig.suptitle('Selected features ordered by laterality of detachment and prior treatment', fontsize = 14)\n",
    "plt.show()"
   ]
  },
  {
   "cell_type": "markdown",
   "metadata": {},
   "source": [
    "### Logistic Regression & Gradient Boosting \n",
    "\n",
    "Since there are only 87 data points in this set, I have decided to set the training size to 20% of the data. <br>\n",
    "While both algorithms were tested using different ratios ranging from 0.1 to 0.5, it was found that 20% gave the best results (so the highest accuracy) and the training size of 17 was still large enough to avoid any unwanted behaviours."
   ]
  },
  {
   "cell_type": "code",
   "execution_count": 33,
   "metadata": {},
   "outputs": [],
   "source": [
    "features = rb3[['age_diagnosis', 'sex', 'family_history', 'prior_treatment', 'lateral_RB', 'lateral_RD']]\n",
    "y1 = rb3['max_RRA']\n",
    "y2 = rb3['final_RD_status']\n",
    "\n",
    "X1_train, X1_test, y1_train, y1_test = train_test_split(features, y1, test_size=0.8, train_size = 0.2, random_state = 42)\n",
    "X2_train, X2_test, y2_train, y2_test = train_test_split(features, y2, test_size=0.8, train_size = 0.2, random_state = 42)"
   ]
  },
  {
   "cell_type": "markdown",
   "metadata": {},
   "source": [
    "#### Predicting Maximal Retinal Reattachment Status \n",
    "\n",
    "For maximal retinal reattachment status, there are three possible categorical values: <br>\n",
    "    0: No resolution<br>\n",
    "    1: Partial<br>\n",
    "    2: Complete"
   ]
  },
  {
   "cell_type": "code",
   "execution_count": 34,
   "metadata": {},
   "outputs": [],
   "source": [
    "logistic1 = LogisticRegression()\n",
    "logistic1.fit(X1_train, y1_train)\n",
    "\n",
    "preds_logistic1 = logistic1.predict(X1_test)\n",
    "cm11 = confusion_matrix(y1_test, preds_logistic1)\n",
    "\n",
    "cm_logistic1 = pd.DataFrame(cm11.T, index=['No resolution', 'Partial', 'Complete'], columns=['No resolution', 'Partial', 'Complete'])"
   ]
  },
  {
   "cell_type": "code",
   "execution_count": 35,
   "metadata": {},
   "outputs": [],
   "source": [
    "boost1 = GradientBoostingClassifier(random_state=1)\n",
    "boost1.fit(X1_train, y1_train)\n",
    "\n",
    "preds_boost1 = boost1.predict(X1_test)\n",
    "cm12 = confusion_matrix(y1_test, preds_boost1) \n",
    "\n",
    "cm_boost1 = pd.DataFrame(cm12.T, index=['No resolution', 'Partial', 'Complete'], columns=['No resolution', 'Partial', 'Complete'])"
   ]
  },
  {
   "cell_type": "code",
   "execution_count": 36,
   "metadata": {},
   "outputs": [
    {
     "name": "stdout",
     "output_type": "stream",
     "text": [
      "\t\tDisplaying Results for Maximal Retinal Reattachment Status\n",
      "\n",
      "\tUsing Logistic Regression\n",
      "\n",
      "Classification Report\n",
      "\n",
      "               precision    recall  f1-score   support\n",
      "\n",
      "No resolution       0.54      0.57      0.55        23\n",
      "      Partial       0.00      0.00      0.00        13\n",
      "     Complete       0.65      0.88      0.75        34\n",
      "\n",
      "  avg / total       0.49      0.61      0.55        70\n",
      "\n",
      "Confusion Matrix\n",
      "\n",
      "               No resolution  Partial  Complete\n",
      "No resolution             13        7         4\n",
      "Partial                    0        0         0\n",
      "Complete                  10        6        30\n",
      "\n",
      "Accuracy 0.6142857142857143\n",
      "\n",
      "\n",
      "\tUsing Gradient Boost\n",
      "\n",
      "Classification Report\n",
      "\n",
      "               precision    recall  f1-score   support\n",
      "\n",
      "No resolution       0.47      0.35      0.40        23\n",
      "      Partial       0.00      0.00      0.00        13\n",
      "     Complete       0.58      0.82      0.68        34\n",
      "\n",
      "  avg / total       0.44      0.51      0.46        70\n",
      "\n",
      "Confusion Matrix\n",
      "\n",
      "               No resolution  Partial  Complete\n",
      "No resolution              8        5         4\n",
      "Partial                    3        0         2\n",
      "Complete                  12        8        28\n",
      "\n",
      "Accuracy 0.5142857142857142\n",
      "\n"
     ]
    },
    {
     "name": "stderr",
     "output_type": "stream",
     "text": [
      "C:\\Users\\rapef\\Anaconda3\\lib\\site-packages\\sklearn\\metrics\\classification.py:1135: UndefinedMetricWarning: Precision and F-score are ill-defined and being set to 0.0 in labels with no predicted samples.\n",
      "  'precision', 'predicted', average, warn_for)\n"
     ]
    }
   ],
   "source": [
    "print('\\t\\tDisplaying Results for Maximal Retinal Reattachment Status\\n')\n",
    "\n",
    "print(\"\\tUsing Logistic Regression\\n\")\n",
    "print(\"Classification Report\\n\")\n",
    "print(classification_report(y1_test, preds_logistic1, target_names = ['No resolution', 'Partial', 'Complete']))\n",
    "print('Confusion Matrix\\n')\n",
    "print(cm_logistic1)\n",
    "tree_logistic1 = accuracy_score(y1_test, preds_logistic1)\n",
    "print('\\nAccuracy %s\\n' % tree_logistic1)\n",
    "\n",
    "\n",
    "print(\"\\n\\tUsing Gradient Boost\\n\")\n",
    "print(\"Classification Report\\n\")\n",
    "print(classification_report(y1_test, preds_boost1, target_names = ['No resolution', 'Partial', 'Complete']))\n",
    "print('Confusion Matrix\\n')\n",
    "print(cm_boost1)\n",
    "tree_boost1 = accuracy_score(y1_test, preds_boost1)\n",
    "print('\\nAccuracy %s\\n' % tree_boost1)"
   ]
  },
  {
   "cell_type": "markdown",
   "metadata": {},
   "source": [
    "Looking at the results above, logistic regression performed better than gradient boost with accuracies of 61.43% and 51.43% respectively. However, I would conclude that, using this data set alone, neither algorithms would be suitable for clinical use. A bigger data set would be required to train the models accordingly to make inferences whether it is possible to predict the retinal reattachment status."
   ]
  },
  {
   "cell_type": "markdown",
   "metadata": {},
   "source": [
    "#### Predicting Final Retinal Detachment Status \n",
    "For final retinal detachment status, there are three possible categories as well:<br>\n",
    "0: Tractional Retinal Detachment (abbreviated TRD)<br>\n",
    "1: Partial<br>\n",
    "2: Complete"
   ]
  },
  {
   "cell_type": "code",
   "execution_count": 37,
   "metadata": {},
   "outputs": [],
   "source": [
    "logistic2 = LogisticRegression()\n",
    "logistic2.fit(X2_train, y2_train)\n",
    "\n",
    "preds_logistic2 = logistic2.predict(X2_test)\n",
    "cm21 = confusion_matrix(y2_test, preds_logistic2)\n",
    "\n",
    "cm_logistic2 = pd.DataFrame(cm21.T, index=['TRD', 'Partial', 'Complete'], columns=['TRD', 'Partial', 'Complete'])"
   ]
  },
  {
   "cell_type": "code",
   "execution_count": 38,
   "metadata": {},
   "outputs": [],
   "source": [
    "boost2 = GradientBoostingClassifier(random_state=1)\n",
    "boost2.fit(X2_train, y2_train)\n",
    "\n",
    "preds_boost2 = boost2.predict(X2_test)\n",
    "cm22 = confusion_matrix(y2_test, preds_boost2) \n",
    "\n",
    "cm_boost2 = pd.DataFrame(cm22.T, index=['TRD', 'Partial', 'Complete'], columns=['TRD', 'Partial', 'Complete'])"
   ]
  },
  {
   "cell_type": "code",
   "execution_count": 39,
   "metadata": {},
   "outputs": [
    {
     "name": "stdout",
     "output_type": "stream",
     "text": [
      "\t\tDisplaying Results for Final Retinal Detachment Status\n",
      "\n",
      "\tUsing Logistic Regression\n",
      "\n",
      "Classification Report\n",
      "\n",
      "             precision    recall  f1-score   support\n",
      "\n",
      "        TRD       0.69      0.58      0.63        31\n",
      "    Partial       0.25      0.08      0.12        12\n",
      "   Complete       0.57      0.85      0.69        27\n",
      "\n",
      "avg / total       0.57      0.60      0.57        70\n",
      "\n",
      "Confusion Matrix\n",
      "\n",
      "          TRD  Partial  Complete\n",
      "TRD        18        4         4\n",
      "Partial     3        1         0\n",
      "Complete   10        7        23\n",
      "\n",
      "Accuracy 0.6\n",
      "\n",
      "\n",
      "\tUsing Gradient Boost\n",
      "\n",
      "Classification Report\n",
      "\n",
      "             precision    recall  f1-score   support\n",
      "\n",
      "        TRD       0.45      0.32      0.38        31\n",
      "    Partial       0.19      0.25      0.21        12\n",
      "   Complete       0.34      0.41      0.37        27\n",
      "\n",
      "avg / total       0.37      0.34      0.35        70\n",
      "\n",
      "Confusion Matrix\n",
      "\n",
      "          TRD  Partial  Complete\n",
      "TRD        10        3         9\n",
      "Partial     6        3         7\n",
      "Complete   15        6        11\n",
      "\n",
      "Accuracy 0.34285714285714286\n",
      "\n"
     ]
    }
   ],
   "source": [
    "print('\\t\\tDisplaying Results for Final Retinal Detachment Status\\n')\n",
    "print('\\tUsing Logistic Regression\\n')\n",
    "print(\"Classification Report\\n\")\n",
    "print(classification_report(y2_test, preds_logistic2, target_names = ['TRD', 'Partial', 'Complete']))\n",
    "print('Confusion Matrix\\n')\n",
    "print(cm_logistic2)\n",
    "tree_logistic2 = accuracy_score(y2_test, preds_logistic2)\n",
    "print('\\nAccuracy %s\\n' % tree_logistic2)\n",
    "\n",
    "print(\"\\n\\tUsing Gradient Boost\\n\")\n",
    "print(\"Classification Report\\n\")\n",
    "print(classification_report(y2_test, preds_boost2, target_names = ['TRD', 'Partial', 'Complete']))\n",
    "print('Confusion Matrix\\n')\n",
    "print(cm_boost2)\n",
    "tree_boost2 = accuracy_score(y2_test, preds_boost2)\n",
    "print('\\nAccuracy %s\\n' % tree_boost2)"
   ]
  },
  {
   "cell_type": "markdown",
   "metadata": {},
   "source": [
    "Using final retinal detachment status as a measure of success, the models performed worse. Logistic regression still outperformed gradient boost with accuracies of 60% and 34.29% respectively. Based on the sample data, these results would not be safe enough to be used in a clinical setting and possible a larger data set would be needed. <br>"
   ]
  },
  {
   "cell_type": "markdown",
   "metadata": {},
   "source": [
    "## 4. Conclusion\n",
    "\n",
    "In this project, three different problems were considered.<br>\n",
    "1. Using k-means clustering and hierarchical clustering, it was found that based on ocular survival and age at diagnosis, it is possible to group patients into distinct categories: those that are younger, had a higher ocular survival and were able to keep their eye sight for more years compared to the older group. Being able to group patients into one of the two categories would allow doctors to make adjustment to treatment and avoid unnecessary and painful medications. It would also open doors for better scheduling strategies at the hospital: young patients would be prioritized and receive e.g. clinal testings like MRT and PET/CT scans earlier since they are more likely to keep their vision.\n",
    "2. Based on the clustering results, simple linear regression was applied to predict ocular survival based on the age at diagnosis with surprisinly high accuracy and low MSE. To verify the validity of the results, it would be interesting to apply this model to a larger data set. However, it can be concluded that these two features are highly affiliated with each other that it would be possible in real life to give an estimate of ocular survival. This knowledge could help patients prepare for the new situation. Losing your eye sight is something that is really hard to adjust to, and knowing \"how much time you have left\" would allow to arrange a variety of things that would be much harder once blind e.g. accomodation, school for the blind, guide dog.  \n",
    "3. Lastly, logistic regression and gradient boost were used to predict the success of therapy. Success was measured using two parametres - maximal retinal reattachment and final retinal detachment status. Out of the two, the models gave a better accuracy for maximal retinal reattachment. However, the accuracies were not high enough to be used in a clinical setting, but could be used to give an overview and compare different treatment options. Here, the predictors were used separately but for future projects, it would be interesting to combine these two measures to see if we can detect an increase in accuracy.\n",
    "\n",
    "Overall, it was an interesting project with a lot of future potential. Health care would benefit tremendously from machine learning algorithms in a range of ways from better treatments to more efficient scheduling.\n",
    "Lastly, I want to stress that the topic of retinoblastoma is a very complicated with different interplaying factors that are often hard to predict. More research is needed to help patients and allow for higher ocular survival rates."
   ]
  },
  {
   "cell_type": "markdown",
   "metadata": {},
   "source": [
    "## 5. References\n",
    "\n",
    "1. Rowlands, M. A., Mondesire-Crump, I., Levin, A., Mauguen, A., Francis, J. H., Dunkel, I. J., ... & Abramson, D. H. (2018). Total retinal detachments due to retinoblastoma: Outcomes following intra-arterial chemotherapy/ophthalmic artery chemosurgery. PloS one, 13(4), e0195395.\n",
    "2. Dataset: https://figshare.com/articles/Total_retinal_detachments_due_to_retinoblastoma_Outcomes_following_intra-arterial_chemotherapy_ophthalmic_artery_chemosurgery/6191927\n",
    "3. World Health Organization. (2014). Retinoblastoma - Review of Cancer Medicines on the WHO List of Essential Medicines [PDF]. Retrieved from http://www.who.int/selection_medicines/committees/expert/20/applications/Retinoblastoma.pdf"
   ]
  },
  {
   "cell_type": "code",
   "execution_count": null,
   "metadata": {},
   "outputs": [],
   "source": []
  }
 ],
 "metadata": {
  "kernelspec": {
   "display_name": "Python 3",
   "language": "python",
   "name": "python3"
  },
  "language_info": {
   "codemirror_mode": {
    "name": "ipython",
    "version": 3
   },
   "file_extension": ".py",
   "mimetype": "text/x-python",
   "name": "python",
   "nbconvert_exporter": "python",
   "pygments_lexer": "ipython3",
   "version": "3.6.5"
  }
 },
 "nbformat": 4,
 "nbformat_minor": 2
}
